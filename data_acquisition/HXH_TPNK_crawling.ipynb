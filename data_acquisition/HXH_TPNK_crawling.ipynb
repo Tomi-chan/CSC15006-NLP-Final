{
  "cells": [
    {
      "cell_type": "markdown",
      "metadata": {
        "id": "wyEyGVbDFwA-"
      },
      "source": [
        "## Import Libraries "
      ]
    },
    {
      "cell_type": "code",
      "execution_count": null,
      "metadata": {
        "colab": {
          "base_uri": "https://localhost:8080/"
        },
        "id": "lS606ynaFuvt",
        "outputId": "3f112d4b-fcd5-42c1-b269-4911632840da"
      },
      "outputs": [
        {
          "name": "stdout",
          "output_type": "stream",
          "text": [
            "Collecting selenium\n",
            "  Downloading selenium-4.27.1-py3-none-any.whl.metadata (7.1 kB)\n",
            "Requirement already satisfied: urllib3<3,>=1.26 in /usr/local/lib/python3.10/dist-packages (from urllib3[socks]<3,>=1.26->selenium) (2.2.3)\n",
            "Collecting trio~=0.17 (from selenium)\n",
            "  Downloading trio-0.27.0-py3-none-any.whl.metadata (8.6 kB)\n",
            "Collecting trio-websocket~=0.9 (from selenium)\n",
            "  Downloading trio_websocket-0.11.1-py3-none-any.whl.metadata (4.7 kB)\n",
            "Requirement already satisfied: certifi>=2021.10.8 in /usr/local/lib/python3.10/dist-packages (from selenium) (2024.8.30)\n",
            "Requirement already satisfied: typing_extensions~=4.9 in /usr/local/lib/python3.10/dist-packages (from selenium) (4.12.2)\n",
            "Requirement already satisfied: websocket-client~=1.8 in /usr/local/lib/python3.10/dist-packages (from selenium) (1.8.0)\n",
            "Requirement already satisfied: attrs>=23.2.0 in /usr/local/lib/python3.10/dist-packages (from trio~=0.17->selenium) (24.2.0)\n",
            "Collecting sortedcontainers (from trio~=0.17->selenium)\n",
            "  Downloading sortedcontainers-2.4.0-py2.py3-none-any.whl.metadata (10 kB)\n",
            "Requirement already satisfied: idna in /usr/local/lib/python3.10/dist-packages (from trio~=0.17->selenium) (3.10)\n",
            "Collecting outcome (from trio~=0.17->selenium)\n",
            "  Downloading outcome-1.3.0.post0-py2.py3-none-any.whl.metadata (2.6 kB)\n",
            "Requirement already satisfied: sniffio>=1.3.0 in /usr/local/lib/python3.10/dist-packages (from trio~=0.17->selenium) (1.3.1)\n",
            "Requirement already satisfied: exceptiongroup in /usr/local/lib/python3.10/dist-packages (from trio~=0.17->selenium) (1.2.2)\n",
            "Collecting wsproto>=0.14 (from trio-websocket~=0.9->selenium)\n",
            "  Downloading wsproto-1.2.0-py3-none-any.whl.metadata (5.6 kB)\n",
            "Requirement already satisfied: pysocks!=1.5.7,<2.0,>=1.5.6 in /usr/local/lib/python3.10/dist-packages (from urllib3[socks]<3,>=1.26->selenium) (1.7.1)\n",
            "Requirement already satisfied: h11<1,>=0.9.0 in /usr/local/lib/python3.10/dist-packages (from wsproto>=0.14->trio-websocket~=0.9->selenium) (0.14.0)\n",
            "Downloading selenium-4.27.1-py3-none-any.whl (9.7 MB)\n",
            "\u001b[2K   \u001b[90m━━━━━━━━━━━━━━━━━━━━━━━━━━━━━━━━━━━━━━━━\u001b[0m \u001b[32m9.7/9.7 MB\u001b[0m \u001b[31m64.9 MB/s\u001b[0m eta \u001b[36m0:00:00\u001b[0m\n",
            "\u001b[?25hDownloading trio-0.27.0-py3-none-any.whl (481 kB)\n",
            "\u001b[2K   \u001b[90m━━━━━━━━━━━━━━━━━━━━━━━━━━━━━━━━━━━━━━━━\u001b[0m \u001b[32m481.7/481.7 kB\u001b[0m \u001b[31m24.1 MB/s\u001b[0m eta \u001b[36m0:00:00\u001b[0m\n",
            "\u001b[?25hDownloading trio_websocket-0.11.1-py3-none-any.whl (17 kB)\n",
            "Downloading wsproto-1.2.0-py3-none-any.whl (24 kB)\n",
            "Downloading outcome-1.3.0.post0-py2.py3-none-any.whl (10 kB)\n",
            "Downloading sortedcontainers-2.4.0-py2.py3-none-any.whl (29 kB)\n",
            "Installing collected packages: sortedcontainers, wsproto, outcome, trio, trio-websocket, selenium\n",
            "Successfully installed outcome-1.3.0.post0 selenium-4.27.1 sortedcontainers-2.4.0 trio-0.27.0 trio-websocket-0.11.1 wsproto-1.2.0\n",
            "Requirement already satisfied: selenium in /usr/local/lib/python3.10/dist-packages (4.27.1)\n",
            "Collecting webdriver-manager\n",
            "  Downloading webdriver_manager-4.0.2-py2.py3-none-any.whl.metadata (12 kB)\n",
            "Requirement already satisfied: urllib3<3,>=1.26 in /usr/local/lib/python3.10/dist-packages (from urllib3[socks]<3,>=1.26->selenium) (2.2.3)\n",
            "Requirement already satisfied: trio~=0.17 in /usr/local/lib/python3.10/dist-packages (from selenium) (0.27.0)\n",
            "Requirement already satisfied: trio-websocket~=0.9 in /usr/local/lib/python3.10/dist-packages (from selenium) (0.11.1)\n",
            "Requirement already satisfied: certifi>=2021.10.8 in /usr/local/lib/python3.10/dist-packages (from selenium) (2024.8.30)\n",
            "Requirement already satisfied: typing_extensions~=4.9 in /usr/local/lib/python3.10/dist-packages (from selenium) (4.12.2)\n",
            "Requirement already satisfied: websocket-client~=1.8 in /usr/local/lib/python3.10/dist-packages (from selenium) (1.8.0)\n",
            "Requirement already satisfied: requests in /usr/local/lib/python3.10/dist-packages (from webdriver-manager) (2.32.3)\n",
            "Collecting python-dotenv (from webdriver-manager)\n",
            "  Downloading python_dotenv-1.0.1-py3-none-any.whl.metadata (23 kB)\n",
            "Requirement already satisfied: packaging in /usr/local/lib/python3.10/dist-packages (from webdriver-manager) (24.2)\n",
            "Requirement already satisfied: attrs>=23.2.0 in /usr/local/lib/python3.10/dist-packages (from trio~=0.17->selenium) (24.2.0)\n",
            "Requirement already satisfied: sortedcontainers in /usr/local/lib/python3.10/dist-packages (from trio~=0.17->selenium) (2.4.0)\n",
            "Requirement already satisfied: idna in /usr/local/lib/python3.10/dist-packages (from trio~=0.17->selenium) (3.10)\n",
            "Requirement already satisfied: outcome in /usr/local/lib/python3.10/dist-packages (from trio~=0.17->selenium) (1.3.0.post0)\n",
            "Requirement already satisfied: sniffio>=1.3.0 in /usr/local/lib/python3.10/dist-packages (from trio~=0.17->selenium) (1.3.1)\n",
            "Requirement already satisfied: exceptiongroup in /usr/local/lib/python3.10/dist-packages (from trio~=0.17->selenium) (1.2.2)\n",
            "Requirement already satisfied: wsproto>=0.14 in /usr/local/lib/python3.10/dist-packages (from trio-websocket~=0.9->selenium) (1.2.0)\n",
            "Requirement already satisfied: pysocks!=1.5.7,<2.0,>=1.5.6 in /usr/local/lib/python3.10/dist-packages (from urllib3[socks]<3,>=1.26->selenium) (1.7.1)\n",
            "Requirement already satisfied: charset-normalizer<4,>=2 in /usr/local/lib/python3.10/dist-packages (from requests->webdriver-manager) (3.4.0)\n",
            "Requirement already satisfied: h11<1,>=0.9.0 in /usr/local/lib/python3.10/dist-packages (from wsproto>=0.14->trio-websocket~=0.9->selenium) (0.14.0)\n",
            "Downloading webdriver_manager-4.0.2-py2.py3-none-any.whl (27 kB)\n",
            "Downloading python_dotenv-1.0.1-py3-none-any.whl (19 kB)\n",
            "Installing collected packages: python-dotenv, webdriver-manager\n",
            "Successfully installed python-dotenv-1.0.1 webdriver-manager-4.0.2\n"
          ]
        }
      ],
      "source": [
        "!pip install selenium\n",
        "!pip install selenium webdriver-manager"
      ]
    },
    {
      "cell_type": "code",
      "execution_count": null,
      "metadata": {
        "id": "Nd2uBYXZD9_L"
      },
      "outputs": [],
      "source": [
        "import pandas as pd\n",
        "import numpy as np\n",
        "from bs4 import BeautifulSoup\n",
        "import requests\n",
        "import re\n",
        "import time\n",
        "import random\n",
        "import os\n",
        "from selenium import webdriver\n",
        "\n",
        "\n",
        "import sys"
      ]
    },
    {
      "cell_type": "code",
      "execution_count": null,
      "metadata": {
        "colab": {
          "base_uri": "https://localhost:8080/"
        },
        "id": "j6A5hx-wGOwu",
        "outputId": "3017165b-48d9-4b67-f998-55ed6a069396"
      },
      "outputs": [
        {
          "name": "stdout",
          "output_type": "stream",
          "text": [
            "--2024-12-18 00:22:25--  https://dl.google.com/linux/direct/google-chrome-stable_current_amd64.deb\n",
            "Resolving dl.google.com (dl.google.com)... 74.125.197.136, 74.125.197.91, 74.125.197.93, ...\n",
            "Connecting to dl.google.com (dl.google.com)|74.125.197.136|:443... connected.\n",
            "HTTP request sent, awaiting response... 200 OK\n",
            "Length: 112421156 (107M) [application/x-debian-package]\n",
            "Saving to: ‘google-chrome-stable_current_amd64.deb’\n",
            "\n",
            "google-chrome-stabl 100%[===================>] 107.21M   214MB/s    in 0.5s    \n",
            "\n",
            "2024-12-18 00:22:25 (214 MB/s) - ‘google-chrome-stable_current_amd64.deb’ saved [112421156/112421156]\n",
            "\n",
            "Selecting previously unselected package google-chrome-stable.\n",
            "(Reading database ... 123635 files and directories currently installed.)\n",
            "Preparing to unpack google-chrome-stable_current_amd64.deb ...\n",
            "Unpacking google-chrome-stable (131.0.6778.139-1) ...\n",
            "\u001b[1mdpkg:\u001b[0m dependency problems prevent configuration of google-chrome-stable:\n",
            " google-chrome-stable depends on libvulkan1; however:\n",
            "  Package libvulkan1 is not installed.\n",
            "\n",
            "\u001b[1mdpkg:\u001b[0m error processing package google-chrome-stable (--install):\n",
            " dependency problems - leaving unconfigured\n",
            "Processing triggers for man-db (2.10.2-1) ...\n",
            "Errors were encountered while processing:\n",
            " google-chrome-stable\n",
            "Reading package lists... Done\n",
            "Building dependency tree... Done\n",
            "Reading state information... Done\n",
            "Correcting dependencies... Done\n",
            "The following additional packages will be installed:\n",
            "  libvulkan1 mesa-vulkan-drivers\n",
            "The following NEW packages will be installed:\n",
            "  libvulkan1 mesa-vulkan-drivers\n",
            "0 upgraded, 2 newly installed, 0 to remove and 49 not upgraded.\n",
            "1 not fully installed or removed.\n",
            "Need to get 10.9 MB of archives.\n",
            "After this operation, 51.3 MB of additional disk space will be used.\n",
            "Get:1 http://archive.ubuntu.com/ubuntu jammy/main amd64 libvulkan1 amd64 1.3.204.1-2 [128 kB]\n",
            "Get:2 http://archive.ubuntu.com/ubuntu jammy-updates/main amd64 mesa-vulkan-drivers amd64 23.2.1-1ubuntu3.1~22.04.3 [10.7 MB]\n",
            "Fetched 10.9 MB in 2s (5,532 kB/s)\n",
            "Selecting previously unselected package libvulkan1:amd64.\n",
            "(Reading database ... 123752 files and directories currently installed.)\n",
            "Preparing to unpack .../libvulkan1_1.3.204.1-2_amd64.deb ...\n",
            "Unpacking libvulkan1:amd64 (1.3.204.1-2) ...\n",
            "Selecting previously unselected package mesa-vulkan-drivers:amd64.\n",
            "Preparing to unpack .../mesa-vulkan-drivers_23.2.1-1ubuntu3.1~22.04.3_amd64.deb ...\n",
            "Unpacking mesa-vulkan-drivers:amd64 (23.2.1-1ubuntu3.1~22.04.3) ...\n",
            "Setting up libvulkan1:amd64 (1.3.204.1-2) ...\n",
            "Setting up mesa-vulkan-drivers:amd64 (23.2.1-1ubuntu3.1~22.04.3) ...\n",
            "Setting up google-chrome-stable (131.0.6778.139-1) ...\n",
            "update-alternatives: using /usr/bin/google-chrome-stable to provide /usr/bin/x-www-browser (x-www-browser) in auto mode\n",
            "update-alternatives: using /usr/bin/google-chrome-stable to provide /usr/bin/gnome-www-browser (gnome-www-browser) in auto mode\n",
            "update-alternatives: using /usr/bin/google-chrome-stable to provide /usr/bin/google-chrome (google-chrome) in auto mode\n",
            "Processing triggers for libc-bin (2.35-0ubuntu3.4) ...\n",
            "/sbin/ldconfig.real: /usr/local/lib/libur_adapter_opencl.so.0 is not a symbolic link\n",
            "\n",
            "/sbin/ldconfig.real: /usr/local/lib/libtcm_debug.so.1 is not a symbolic link\n",
            "\n",
            "/sbin/ldconfig.real: /usr/local/lib/libtbbbind.so.3 is not a symbolic link\n",
            "\n",
            "/sbin/ldconfig.real: /usr/local/lib/libtbb.so.12 is not a symbolic link\n",
            "\n",
            "/sbin/ldconfig.real: /usr/local/lib/libtbbmalloc_proxy.so.2 is not a symbolic link\n",
            "\n",
            "/sbin/ldconfig.real: /usr/local/lib/libtbbbind_2_0.so.3 is not a symbolic link\n",
            "\n",
            "/sbin/ldconfig.real: /usr/local/lib/libhwloc.so.15 is not a symbolic link\n",
            "\n",
            "/sbin/ldconfig.real: /usr/local/lib/libtbbbind_2_5.so.3 is not a symbolic link\n",
            "\n",
            "/sbin/ldconfig.real: /usr/local/lib/libur_adapter_level_zero.so.0 is not a symbolic link\n",
            "\n",
            "/sbin/ldconfig.real: /usr/local/lib/libur_loader.so.0 is not a symbolic link\n",
            "\n",
            "/sbin/ldconfig.real: /usr/local/lib/libumf.so.0 is not a symbolic link\n",
            "\n",
            "/sbin/ldconfig.real: /usr/local/lib/libtbbmalloc.so.2 is not a symbolic link\n",
            "\n",
            "/sbin/ldconfig.real: /usr/local/lib/libtcm.so.1 is not a symbolic link\n",
            "\n",
            "--2024-12-18 00:22:57--  https://chromedriver.storage.googleapis.com/131.0.6778/chromedriver_linux64.zip\n",
            "Resolving chromedriver.storage.googleapis.com (chromedriver.storage.googleapis.com)... 74.125.199.207, 142.250.99.207, 142.251.188.207, ...\n",
            "Connecting to chromedriver.storage.googleapis.com (chromedriver.storage.googleapis.com)|74.125.199.207|:443... connected.\n",
            "HTTP request sent, awaiting response... 404 Not Found\n",
            "2024-12-18 00:22:57 ERROR 404: Not Found.\n",
            "\n",
            "unzip:  cannot find or open chromedriver_linux64.zip, chromedriver_linux64.zip.zip or chromedriver_linux64.zip.ZIP.\n",
            "chmod: cannot access 'chromedriver': No such file or directory\n",
            "mv: cannot stat 'chromedriver': No such file or directory\n"
          ]
        }
      ],
      "source": [
        "# install chromium, its driver, and selenium\n",
        "!wget https://dl.google.com/linux/direct/google-chrome-stable_current_amd64.deb\n",
        "!dpkg -i google-chrome-stable_current_amd64.deb\n",
        "!apt-get -f install -y \n",
        "\n",
        "!wget https://chromedriver.storage.googleapis.com/$(google-chrome --version | awk '{print $3}' | cut -d '.' -f 1-3)/chromedriver_linux64.zip\n",
        "!unzip chromedriver_linux64.zip\n",
        "!chmod +x chromedriver\n",
        "!mv chromedriver /usr/local/bin/\n"
      ]
    },
    {
      "cell_type": "code",
      "execution_count": null,
      "metadata": {
        "id": "zENXLTaGGS8u"
      },
      "outputs": [],
      "source": [
        "from selenium import webdriver\n",
        "from selenium.webdriver.chrome.service import Service\n",
        "from selenium.webdriver.common.by import By\n",
        "from webdriver_manager.chrome import ChromeDriverManager\n",
        "from bs4 import BeautifulSoup\n",
        "from selenium.webdriver.common.by import By\n",
        "from selenium.common.exceptions import WebDriverException, TimeoutException, NoSuchElementException\n"
      ]
    },
    {
      "cell_type": "markdown",
      "metadata": {
        "id": "Fo4qWYKjGUVs"
      },
      "source": [
        "## Define Basic Variable "
      ]
    },
    {
      "cell_type": "code",
      "execution_count": null,
      "metadata": {
        "id": "r-26rcz_GZee"
      },
      "outputs": [],
      "source": [
        "BASE_URL = \"https://nomfoundation.org\""
      ]
    },
    {
      "cell_type": "markdown",
      "metadata": {
        "id": "POB1qjBjGzkg"
      },
      "source": [
        "Some function"
      ]
    },
    {
      "cell_type": "code",
      "execution_count": null,
      "metadata": {
        "id": "0co_bDNaG1Ti"
      },
      "outputs": [],
      "source": [
        "def create_driver():\n",
        "    options = webdriver.ChromeOptions()\n",
        "    options.add_argument('--headless')\n",
        "    options.add_argument('--no-sandbox')\n",
        "    options.add_argument('--disable-dev-shm-usage')\n",
        "\n",
        "    # Khởi tạo WebDriver mới\n",
        "    driver = webdriver.Chrome(service=Service(ChromeDriverManager().install()), options=options)\n",
        "    return driver"
      ]
    },
    {
      "cell_type": "markdown",
      "metadata": {
        "id": "AhXf4iR7Gn2l"
      },
      "source": [
        "# Crawl Data for Ho-Xuan-Huong Poems "
      ]
    },
    {
      "cell_type": "code",
      "execution_count": null,
      "metadata": {
        "id": "Oo3E7lb6G59K"
      },
      "outputs": [],
      "source": [
        "url = \"https://nomfoundation.org/nom-project/Ho-Xuan-Huong/Ho-Xuan-Huong-of-poems?uiLang=en\""
      ]
    },
    {
      "cell_type": "markdown",
      "metadata": {
        "id": "1ytWccAXHYEc"
      },
      "source": [
        "Get the link for each poem "
      ]
    },
    {
      "cell_type": "code",
      "execution_count": null,
      "metadata": {
        "id": "wjw8jvzpHlJ7"
      },
      "outputs": [],
      "source": [
        "links = []"
      ]
    },
    {
      "cell_type": "code",
      "execution_count": null,
      "metadata": {
        "id": "BWQ7t7BkIHw3"
      },
      "outputs": [],
      "source": [
        "def get_poems(soup):\n",
        "  table = new_soup.find(\"table\", {\"align\": \"center\", \"border\": \"0\", \"cellpadding\": \"5\", \"cellspacing\": \"0\"})\n",
        "\n",
        "  # Tìm tất cả các thẻ <a>\n",
        "  links = table.find_all(\"a\")\n",
        "\n",
        "  # Lấy ra thuộc tính href\n",
        "  href_list = [link['href'] for link in links if 'href' in link.attrs]\n",
        "\n",
        "  return href_list\n"
      ]
    },
    {
      "cell_type": "code",
      "execution_count": null,
      "metadata": {
        "colab": {
          "base_uri": "https://localhost:8080/"
        },
        "id": "Tp5aY-k0HCfr",
        "outputId": "3e40b122-1405-4c79-8a18-6b008ce3fb78"
      },
      "outputs": [
        {
          "name": "stdout",
          "output_type": "stream",
          "text": [
            "['/nom-project/Ho-Xuan-Huong/Ho-Xuan-Huong-of-poems/1-Autumn Landscape?uiLang=en', '/nom-project/Ho-Xuan-Huong/Ho-Xuan-Huong-of-poems/2-Confession (1)?uiLang=en', '/nom-project/Ho-Xuan-Huong/Ho-Xuan-Huong-of-poems/3-Offering betel?uiLang=en', '/nom-project/Ho-Xuan-Huong/Ho-Xuan-Huong-of-poems/4-Confession (II)?uiLang=en', '/nom-project/Ho-Xuan-Huong/Ho-Xuan-Huong-of-poems/5-Lament for the Prefect of Vĩnh-Tường?uiLang=en', '/nom-project/Ho-Xuan-Huong/Ho-Xuan-Huong-of-poems/6-Lament for Commissioner Cóc?uiLang=en', '/nom-project/Ho-Xuan-Huong/Ho-Xuan-Huong-of-poems/7-Confession (III)?uiLang=en', '/nom-project/Ho-Xuan-Huong/Ho-Xuan-Huong-of-poems/8-The Floating Cake?uiLang=en', '/nom-project/Ho-Xuan-Huong/Ho-Xuan-Huong-of-poems/9-On Sharing a Husband?uiLang=en', '/nom-project/Ho-Xuan-Huong/Ho-Xuan-Huong-of-poems/10-Jackfruit?uiLang=en', '/nom-project/Ho-Xuan-Huong/Ho-Xuan-Huong-of-poems/11-River Snail?uiLang=en', '/nom-project/Ho-Xuan-Huong/Ho-Xuan-Huong-of-poems/12-Tavern by a Mountain Stream?uiLang=en', '/nom-project/Ho-Xuan-Huong/Ho-Xuan-Huong-of-poems/13-Teasing Chiêu-Hổ?uiLang=en', '/nom-project/Ho-Xuan-Huong/Ho-Xuan-Huong-of-poems/14-Chiêu-Hổ’s Reply?uiLang=en', '/nom-project/Ho-Xuan-Huong/Ho-Xuan-Huong-of-poems/15-Three-Mountain Pass?uiLang=en', '/nom-project/Ho-Xuan-Huong/Ho-Xuan-Huong-of-poems/16-Weaving at night?uiLang=en', '/nom-project/Ho-Xuan-Huong/Ho-Xuan-Huong-of-poems/17-On a Portrait of Two Beauties?uiLang=en', '/nom-project/Ho-Xuan-Huong/Ho-Xuan-Huong-of-poems/18-The Unwed Mother?uiLang=en', '/nom-project/Ho-Xuan-Huong/Ho-Xuan-Huong-of-poems/19-Swinging?uiLang=en', '/nom-project/Ho-Xuan-Huong/Ho-Xuan-Huong-of-poems/20-Male Member?uiLang=en', '/nom-project/Ho-Xuan-Huong/Ho-Xuan-Huong-of-poems/21-Girl without a Sex?uiLang=en', '/nom-project/Ho-Xuan-Huong/Ho-Xuan-Huong-of-poems/22-The paper fan?uiLang=en', '/nom-project/Ho-Xuan-Huong/Ho-Xuan-Huong-of-poems/23-Picking Flowers?uiLang=en', '/nom-project/Ho-Xuan-Huong/Ho-Xuan-Huong-of-poems/24-The Wellspring?uiLang=en', '/nom-project/Ho-Xuan-Huong/Ho-Xuan-Huong-of-poems/25-Cats?uiLang=en', '/nom-project/Ho-Xuan-Huong/Ho-Xuan-Huong-of-poems/26-Consoling a Young Widow?uiLang=en', '/nom-project/Ho-Xuan-Huong/Ho-Xuan-Huong-of-poems/27-The Pharmacist’s Widow Mourns His Death?uiLang=en', '/nom-project/Ho-Xuan-Huong/Ho-Xuan-Huong-of-poems/28-The Condition of Women?uiLang=en', '/nom-project/Ho-Xuan-Huong/Ho-Xuan-Huong-of-poems/29-Village Schoolmaster?uiLang=en', '/nom-project/Ho-Xuan-Huong/Ho-Xuan-Huong-of-poems/30-The Retired Doctor?uiLang=en', '/nom-project/Ho-Xuan-Huong/Ho-Xuan-Huong-of-poems/31-Young Scholars?uiLang=en', '/nom-project/Ho-Xuan-Huong/Ho-Xuan-Huong-of-poems/32-Quán Sú Pagoda?uiLang=en', '/nom-project/Ho-Xuan-Huong/Ho-Xuan-Huong-of-poems/33-Buddhist Nun?uiLang=en', '/nom-project/Ho-Xuan-Huong/Ho-Xuan-Huong-of-poems/34-The Lustful Monk?uiLang=en', '/nom-project/Ho-Xuan-Huong/Ho-Xuan-Huong-of-poems/35-Old Pagoda?uiLang=en', '/nom-project/Ho-Xuan-Huong/Ho-Xuan-Huong-of-poems/36-Viewing Cắc – Có Cavern?uiLang=en', '/nom-project/Ho-Xuan-Huong/Ho-Xuan-Huong-of-poems/37-Mocking a Monk?uiLang=en', '/nom-project/Ho-Xuan-Huong/Ho-Xuan-Huong-of-poems/38-Trấn Quốc Temple?uiLang=en', '/nom-project/Ho-Xuan-Huong/Ho-Xuan-Huong-of-poems/39-At the Chinese General’s Tomb?uiLang=en', '/nom-project/Ho-Xuan-Huong/Ho-Xuan-Huong-of-poems/40-Rusty Coins?uiLang=en', '/nom-project/Ho-Xuan-Huong/Ho-Xuan-Huong-of-poems/41-The Scarecrow?uiLang=en', '/nom-project/Ho-Xuan-Huong/Ho-Xuan-Huong-of-poems/42-The Crab?uiLang=en', '/nom-project/Ho-Xuan-Huong/Ho-Xuan-Huong-of-poems/43-Unwelcome Houseguest?uiLang=en', '/nom-project/Ho-Xuan-Huong/Ho-Xuan-Huong-of-poems/44-The Kingdom of Đằng?uiLang=en', '/nom-project/Ho-Xuan-Huong/Ho-Xuan-Huong-of-poems/45-The Chess Game?uiLang=en', '/nom-project/Ho-Xuan-Huong/Ho-Xuan-Huong-of-poems/46-Heaven Market?uiLang=en', '/nom-project/Ho-Xuan-Huong/Ho-Xuan-Huong-of-poems/47-Questions for the Moon?uiLang=en', '/nom-project/Ho-Xuan-Huong/Ho-Xuan-Huong-of-poems/48-Country Scene?uiLang=en', '/nom-project/Ho-Xuan-Huong/Ho-Xuan-Huong-of-poems/49-Spring – watching pavilion?uiLang=en']\n"
          ]
        }
      ],
      "source": [
        "driver = create_driver()\n",
        "\n",
        "driver.get(url)\n",
        "html = driver.page_source\n",
        "\n",
        "# Phân tích cú pháp HTML bằng BeautifulSoup\n",
        "new_soup = BeautifulSoup(html, 'html.parser')\n",
        "\n",
        "for i in range(4):\n",
        "  page_link = driver.find_element(By.XPATH, f'//a[@href=\"javascript:GotoPage({i})\"]')\n",
        "\n",
        "  page_link.click()\n",
        "\n",
        "  time.sleep(random.randint(1, 3)) \n",
        "\n",
        "  html = driver.page_source\n",
        "  new_soup = BeautifulSoup(html, 'html.parser')\n",
        "\n",
        "  links += get_poems(new_soup)\n",
        "\n",
        "  time.sleep(3)\n",
        "\n",
        "print(links)"
      ]
    },
    {
      "cell_type": "code",
      "execution_count": null,
      "metadata": {
        "id": "KqaHf8GrTjCc"
      },
      "outputs": [],
      "source": [
        "driver.quit()"
      ]
    },
    {
      "cell_type": "code",
      "execution_count": null,
      "metadata": {
        "colab": {
          "base_uri": "https://localhost:8080/"
        },
        "id": "1tthEapNKbu2",
        "outputId": "9a1e2568-a78a-4e40-efe4-2490de7791f9"
      },
      "outputs": [
        {
          "name": "stdout",
          "output_type": "stream",
          "text": [
            "['https://nomfoundation.org/nom-project/Ho-Xuan-Huong/Ho-Xuan-Huong-of-poems/1-Autumn Landscape?uiLang=en', 'https://nomfoundation.org/nom-project/Ho-Xuan-Huong/Ho-Xuan-Huong-of-poems/2-Confession (1)?uiLang=en', 'https://nomfoundation.org/nom-project/Ho-Xuan-Huong/Ho-Xuan-Huong-of-poems/3-Offering betel?uiLang=en', 'https://nomfoundation.org/nom-project/Ho-Xuan-Huong/Ho-Xuan-Huong-of-poems/4-Confession (II)?uiLang=en', 'https://nomfoundation.org/nom-project/Ho-Xuan-Huong/Ho-Xuan-Huong-of-poems/5-Lament for the Prefect of Vĩnh-Tường?uiLang=en', 'https://nomfoundation.org/nom-project/Ho-Xuan-Huong/Ho-Xuan-Huong-of-poems/6-Lament for Commissioner Cóc?uiLang=en', 'https://nomfoundation.org/nom-project/Ho-Xuan-Huong/Ho-Xuan-Huong-of-poems/7-Confession (III)?uiLang=en', 'https://nomfoundation.org/nom-project/Ho-Xuan-Huong/Ho-Xuan-Huong-of-poems/8-The Floating Cake?uiLang=en', 'https://nomfoundation.org/nom-project/Ho-Xuan-Huong/Ho-Xuan-Huong-of-poems/9-On Sharing a Husband?uiLang=en', 'https://nomfoundation.org/nom-project/Ho-Xuan-Huong/Ho-Xuan-Huong-of-poems/10-Jackfruit?uiLang=en', 'https://nomfoundation.org/nom-project/Ho-Xuan-Huong/Ho-Xuan-Huong-of-poems/11-River Snail?uiLang=en', 'https://nomfoundation.org/nom-project/Ho-Xuan-Huong/Ho-Xuan-Huong-of-poems/12-Tavern by a Mountain Stream?uiLang=en', 'https://nomfoundation.org/nom-project/Ho-Xuan-Huong/Ho-Xuan-Huong-of-poems/13-Teasing Chiêu-Hổ?uiLang=en', 'https://nomfoundation.org/nom-project/Ho-Xuan-Huong/Ho-Xuan-Huong-of-poems/14-Chiêu-Hổ’s Reply?uiLang=en', 'https://nomfoundation.org/nom-project/Ho-Xuan-Huong/Ho-Xuan-Huong-of-poems/15-Three-Mountain Pass?uiLang=en', 'https://nomfoundation.org/nom-project/Ho-Xuan-Huong/Ho-Xuan-Huong-of-poems/16-Weaving at night?uiLang=en', 'https://nomfoundation.org/nom-project/Ho-Xuan-Huong/Ho-Xuan-Huong-of-poems/17-On a Portrait of Two Beauties?uiLang=en', 'https://nomfoundation.org/nom-project/Ho-Xuan-Huong/Ho-Xuan-Huong-of-poems/18-The Unwed Mother?uiLang=en', 'https://nomfoundation.org/nom-project/Ho-Xuan-Huong/Ho-Xuan-Huong-of-poems/19-Swinging?uiLang=en', 'https://nomfoundation.org/nom-project/Ho-Xuan-Huong/Ho-Xuan-Huong-of-poems/20-Male Member?uiLang=en', 'https://nomfoundation.org/nom-project/Ho-Xuan-Huong/Ho-Xuan-Huong-of-poems/21-Girl without a Sex?uiLang=en', 'https://nomfoundation.org/nom-project/Ho-Xuan-Huong/Ho-Xuan-Huong-of-poems/22-The paper fan?uiLang=en', 'https://nomfoundation.org/nom-project/Ho-Xuan-Huong/Ho-Xuan-Huong-of-poems/23-Picking Flowers?uiLang=en', 'https://nomfoundation.org/nom-project/Ho-Xuan-Huong/Ho-Xuan-Huong-of-poems/24-The Wellspring?uiLang=en', 'https://nomfoundation.org/nom-project/Ho-Xuan-Huong/Ho-Xuan-Huong-of-poems/25-Cats?uiLang=en', 'https://nomfoundation.org/nom-project/Ho-Xuan-Huong/Ho-Xuan-Huong-of-poems/26-Consoling a Young Widow?uiLang=en', 'https://nomfoundation.org/nom-project/Ho-Xuan-Huong/Ho-Xuan-Huong-of-poems/27-The Pharmacist’s Widow Mourns His Death?uiLang=en', 'https://nomfoundation.org/nom-project/Ho-Xuan-Huong/Ho-Xuan-Huong-of-poems/28-The Condition of Women?uiLang=en', 'https://nomfoundation.org/nom-project/Ho-Xuan-Huong/Ho-Xuan-Huong-of-poems/29-Village Schoolmaster?uiLang=en', 'https://nomfoundation.org/nom-project/Ho-Xuan-Huong/Ho-Xuan-Huong-of-poems/30-The Retired Doctor?uiLang=en', 'https://nomfoundation.org/nom-project/Ho-Xuan-Huong/Ho-Xuan-Huong-of-poems/31-Young Scholars?uiLang=en', 'https://nomfoundation.org/nom-project/Ho-Xuan-Huong/Ho-Xuan-Huong-of-poems/32-Quán Sú Pagoda?uiLang=en', 'https://nomfoundation.org/nom-project/Ho-Xuan-Huong/Ho-Xuan-Huong-of-poems/33-Buddhist Nun?uiLang=en', 'https://nomfoundation.org/nom-project/Ho-Xuan-Huong/Ho-Xuan-Huong-of-poems/34-The Lustful Monk?uiLang=en', 'https://nomfoundation.org/nom-project/Ho-Xuan-Huong/Ho-Xuan-Huong-of-poems/35-Old Pagoda?uiLang=en', 'https://nomfoundation.org/nom-project/Ho-Xuan-Huong/Ho-Xuan-Huong-of-poems/36-Viewing Cắc – Có Cavern?uiLang=en', 'https://nomfoundation.org/nom-project/Ho-Xuan-Huong/Ho-Xuan-Huong-of-poems/37-Mocking a Monk?uiLang=en', 'https://nomfoundation.org/nom-project/Ho-Xuan-Huong/Ho-Xuan-Huong-of-poems/38-Trấn Quốc Temple?uiLang=en', 'https://nomfoundation.org/nom-project/Ho-Xuan-Huong/Ho-Xuan-Huong-of-poems/39-At the Chinese General’s Tomb?uiLang=en', 'https://nomfoundation.org/nom-project/Ho-Xuan-Huong/Ho-Xuan-Huong-of-poems/40-Rusty Coins?uiLang=en', 'https://nomfoundation.org/nom-project/Ho-Xuan-Huong/Ho-Xuan-Huong-of-poems/41-The Scarecrow?uiLang=en', 'https://nomfoundation.org/nom-project/Ho-Xuan-Huong/Ho-Xuan-Huong-of-poems/42-The Crab?uiLang=en', 'https://nomfoundation.org/nom-project/Ho-Xuan-Huong/Ho-Xuan-Huong-of-poems/43-Unwelcome Houseguest?uiLang=en', 'https://nomfoundation.org/nom-project/Ho-Xuan-Huong/Ho-Xuan-Huong-of-poems/44-The Kingdom of Đằng?uiLang=en', 'https://nomfoundation.org/nom-project/Ho-Xuan-Huong/Ho-Xuan-Huong-of-poems/45-The Chess Game?uiLang=en', 'https://nomfoundation.org/nom-project/Ho-Xuan-Huong/Ho-Xuan-Huong-of-poems/46-Heaven Market?uiLang=en', 'https://nomfoundation.org/nom-project/Ho-Xuan-Huong/Ho-Xuan-Huong-of-poems/47-Questions for the Moon?uiLang=en', 'https://nomfoundation.org/nom-project/Ho-Xuan-Huong/Ho-Xuan-Huong-of-poems/48-Country Scene?uiLang=en', 'https://nomfoundation.org/nom-project/Ho-Xuan-Huong/Ho-Xuan-Huong-of-poems/49-Spring – watching pavilion?uiLang=en']\n"
          ]
        }
      ],
      "source": [
        "full_links = [BASE_URL + link for link in links]\n",
        "print(full_links)"
      ]
    },
    {
      "cell_type": "markdown",
      "metadata": {
        "id": "oOEQqykJKm-a"
      },
      "source": [
        "Access each link in the list to retrieve the necessary information."
      ]
    },
    {
      "cell_type": "code",
      "execution_count": null,
      "metadata": {
        "id": "_5r16ijBKvCz"
      },
      "outputs": [],
      "source": [
        "def extract_poem(soup):\n",
        "  table = soup.find(\"table\", {\n",
        "    \"align\": \"center\",\n",
        "    \"width\": \"100%\",\n",
        "    \"cellpadding\": \"2\",\n",
        "    \"cellspacing\": \"5\",\n",
        "    \"style\": \"border-width:1px; border-style:solid; border-color:#E7E7E7;\"\n",
        "  })\n",
        "\n",
        "  poem_name = table.find('td', {'align': \"left\", 'width': \"35%\"}).text\n",
        "  print(poem_name)\n",
        "\n",
        "  td = table.find(\"td\", {\n",
        "    \"class\": \"hnTextBodyGray\",\n",
        "    \"width\": \"40%\",\n",
        "    \"align\": \"justify\",\n",
        "    \"valign\": \"top\"\n",
        "  })\n",
        "\n",
        "  # Extract text bên trong thẻ <span>, nếu có, và đưa vào danh sách\n",
        "  lines = []  # Danh sách để lưu từng dòng\n",
        "  if td:\n",
        "      span = td.find(\"span\")\n",
        "      if span:\n",
        "          # Lấy text và tách dòng dựa trên <br> hoặc dấu xuống dòng\n",
        "          lines = [line.strip() for line in span.get_text(separator=\"\\n\").split(\"\\n\") if line.strip()]\n",
        "  lines.insert(0, poem_name)\n",
        "  return lines\n"
      ]
    },
    {
      "cell_type": "code",
      "execution_count": null,
      "metadata": {
        "colab": {
          "base_uri": "https://localhost:8080/"
        },
        "id": "-T5H87GlK0AX",
        "outputId": "357cbfaf-9c03-4f4d-d6a0-72fe5a0f2eea"
      },
      "outputs": [
        {
          "name": "stdout",
          "output_type": "stream",
          "text": [
            "extract poem in 0/49: https://nomfoundation.org/nom-project/Ho-Xuan-Huong/Ho-Xuan-Huong-of-poems/1-Autumn Landscape?uiLang=en\n",
            "景秋\n",
            "extract poem in 1/49: https://nomfoundation.org/nom-project/Ho-Xuan-Huong/Ho-Xuan-Huong-of-poems/2-Confession (1)?uiLang=en\n",
            "叙情詩\n",
            "extract poem in 2/49: https://nomfoundation.org/nom-project/Ho-Xuan-Huong/Ho-Xuan-Huong-of-poems/3-Offering betel?uiLang=en\n",
            "𠶆咹𦺓\n",
            "extract poem in 3/49: https://nomfoundation.org/nom-project/Ho-Xuan-Huong/Ho-Xuan-Huong-of-poems/4-Confession (II)?uiLang=en\n",
            "叙情\n",
            "extract poem in 4/49: https://nomfoundation.org/nom-project/Ho-Xuan-Huong/Ho-Xuan-Huong-of-poems/5-Lament for the Prefect of Vĩnh-Tường?uiLang=en\n",
            "泣翁府永祥\n",
            "extract poem in 5/49: https://nomfoundation.org/nom-project/Ho-Xuan-Huong/Ho-Xuan-Huong-of-poems/6-Lament for Commissioner Cóc?uiLang=en\n",
            "哭翁總𧋉\n",
            "extract poem in 6/49: https://nomfoundation.org/nom-project/Ho-Xuan-Huong/Ho-Xuan-Huong-of-poems/7-Confession (III)?uiLang=en\n",
            "叙情(隻栢)\n",
            "extract poem in 7/49: https://nomfoundation.org/nom-project/Ho-Xuan-Huong/Ho-Xuan-Huong-of-poems/8-The Floating Cake?uiLang=en\n",
            "餅㵢\n",
            "extract poem in 8/49: https://nomfoundation.org/nom-project/Ho-Xuan-Huong/Ho-Xuan-Huong-of-poems/9-On Sharing a Husband?uiLang=en\n",
            "𥙩𫯳終\n",
            "extract poem in 9/49: https://nomfoundation.org/nom-project/Ho-Xuan-Huong/Ho-Xuan-Huong-of-poems/10-Jackfruit?uiLang=en\n",
            "菓󰊳\n",
            "extract poem in 10/49: https://nomfoundation.org/nom-project/Ho-Xuan-Huong/Ho-Xuan-Huong-of-poems/11-River Snail?uiLang=en\n",
            "詠屋𧋆\n",
            "extract poem in 11/49: https://nomfoundation.org/nom-project/Ho-Xuan-Huong/Ho-Xuan-Huong-of-poems/12-Tavern by a Mountain Stream?uiLang=en\n",
            "詠行於清\n",
            "extract poem in 12/49: https://nomfoundation.org/nom-project/Ho-Xuan-Huong/Ho-Xuan-Huong-of-poems/13-Teasing Chiêu-Hổ?uiLang=en\n",
            "吃翁昭虎\n",
            "extract poem in 13/49: https://nomfoundation.org/nom-project/Ho-Xuan-Huong/Ho-Xuan-Huong-of-poems/14-Chiêu-Hổ’s Reply?uiLang=en\n",
            "翁昭虎和\n",
            "extract poem in 14/49: https://nomfoundation.org/nom-project/Ho-Xuan-Huong/Ho-Xuan-Huong-of-poems/15-Three-Mountain Pass?uiLang=en\n",
            "岧𠀧隊\n",
            "extract poem in 15/49: https://nomfoundation.org/nom-project/Ho-Xuan-Huong/Ho-Xuan-Huong-of-poems/16-Weaving at night?uiLang=en\n",
            "𦂾𦀻\n",
            "extract poem in 16/49: https://nomfoundation.org/nom-project/Ho-Xuan-Huong/Ho-Xuan-Huong-of-poems/17-On a Portrait of Two Beauties?uiLang=en\n",
            "題幀素女\n",
            "extract poem in 17/49: https://nomfoundation.org/nom-project/Ho-Xuan-Huong/Ho-Xuan-Huong-of-poems/18-The Unwed Mother?uiLang=en\n",
            "詠𠊚𣜾荒\n",
            "extract poem in 18/49: https://nomfoundation.org/nom-project/Ho-Xuan-Huong/Ho-Xuan-Huong-of-poems/19-Swinging?uiLang=en\n",
            "詠𨇉𣛭\n",
            "extract poem in 19/49: https://nomfoundation.org/nom-project/Ho-Xuan-Huong/Ho-Xuan-Huong-of-poems/20-Male Member?uiLang=en\n",
            "詠陽物\n",
            "extract poem in 20/49: https://nomfoundation.org/nom-project/Ho-Xuan-Huong/Ho-Xuan-Huong-of-poems/21-Girl without a Sex?uiLang=en\n",
            "詠女無陰\n",
            "extract poem in 21/49: https://nomfoundation.org/nom-project/Ho-Xuan-Huong/Ho-Xuan-Huong-of-poems/22-The paper fan?uiLang=en\n",
            "詠𦑗\n",
            "extract poem in 22/49: https://nomfoundation.org/nom-project/Ho-Xuan-Huong/Ho-Xuan-Huong-of-poems/23-Picking Flowers?uiLang=en\n",
            "𨔈花\n",
            "extract poem in 23/49: https://nomfoundation.org/nom-project/Ho-Xuan-Huong/Ho-Xuan-Huong-of-poems/24-The Wellspring?uiLang=en\n",
            "汫渃\n",
            "extract poem in 24/49: https://nomfoundation.org/nom-project/Ho-Xuan-Huong/Ho-Xuan-Huong-of-poems/25-Cats?uiLang=en\n",
            "詠猫(貓)\n",
            "extract poem in 25/49: https://nomfoundation.org/nom-project/Ho-Xuan-Huong/Ho-Xuan-Huong-of-poems/26-Consoling a Young Widow?uiLang=en\n",
            "𠴗伴哭𫯳\n",
            "extract poem in 26/49: https://nomfoundation.org/nom-project/Ho-Xuan-Huong/Ho-Xuan-Huong-of-poems/27-The Pharmacist’s Widow Mourns His Death?uiLang=en\n",
            "哭𫯳爫𧆄\n",
            "extract poem in 27/49: https://nomfoundation.org/nom-project/Ho-Xuan-Huong/Ho-Xuan-Huong-of-poems/28-The Condition of Women?uiLang=en\n",
            "分彈婆\n",
            "extract poem in 28/49: https://nomfoundation.org/nom-project/Ho-Xuan-Huong/Ho-Xuan-Huong-of-poems/29-Village Schoolmaster?uiLang=en\n",
            "詠𠰺𡥵𪨅\n",
            "extract poem in 29/49: https://nomfoundation.org/nom-project/Ho-Xuan-Huong/Ho-Xuan-Huong-of-poems/30-The Retired Doctor?uiLang=en\n",
            "詠老醫閒居\n",
            "extract poem in 30/49: https://nomfoundation.org/nom-project/Ho-Xuan-Huong/Ho-Xuan-Huong-of-poems/31-Young Scholars?uiLang=en\n",
            "餞𠊛爫詩\n",
            "extract poem in 31/49: https://nomfoundation.org/nom-project/Ho-Xuan-Huong/Ho-Xuan-Huong-of-poems/32-Quán Sú Pagoda?uiLang=en\n",
            "詠厨館使\n",
            "extract poem in 32/49: https://nomfoundation.org/nom-project/Ho-Xuan-Huong/Ho-Xuan-Huong-of-poems/33-Buddhist Nun?uiLang=en\n",
            "詠娓師\n",
            "extract poem in 33/49: https://nomfoundation.org/nom-project/Ho-Xuan-Huong/Ho-Xuan-Huong-of-poems/34-The Lustful Monk?uiLang=en\n",
            "詠師横淫\n",
            "extract poem in 34/49: https://nomfoundation.org/nom-project/Ho-Xuan-Huong/Ho-Xuan-Huong-of-poems/35-Old Pagoda?uiLang=en\n",
            "厨𠸗\n",
            "extract poem in 35/49: https://nomfoundation.org/nom-project/Ho-Xuan-Huong/Ho-Xuan-Huong-of-poems/36-Viewing Cắc – Có Cavern?uiLang=en\n",
            "詠𧯄割據\n",
            "extract poem in 36/49: https://nomfoundation.org/nom-project/Ho-Xuan-Huong/Ho-Xuan-Huong-of-poems/37-Mocking a Monk?uiLang=en\n",
            "制師\n",
            "extract poem in 37/49: https://nomfoundation.org/nom-project/Ho-Xuan-Huong/Ho-Xuan-Huong-of-poems/38-Trấn Quốc Temple?uiLang=en\n",
            "詠厨鎮國\n",
            "extract poem in 38/49: https://nomfoundation.org/nom-project/Ho-Xuan-Huong/Ho-Xuan-Huong-of-poems/39-At the Chinese General’s Tomb?uiLang=en\n",
            "𡑴太守\n",
            "extract poem in 39/49: https://nomfoundation.org/nom-project/Ho-Xuan-Huong/Ho-Xuan-Huong-of-poems/40-Rusty Coins?uiLang=en\n",
            "銅賤󰤏\n",
            "extract poem in 40/49: https://nomfoundation.org/nom-project/Ho-Xuan-Huong/Ho-Xuan-Huong-of-poems/41-The Scarecrow?uiLang=en\n",
            "𠊚蒲𥚆\n",
            "extract poem in 41/49: https://nomfoundation.org/nom-project/Ho-Xuan-Huong/Ho-Xuan-Huong-of-poems/42-The Crab?uiLang=en\n",
            "𡥵𧍆\n",
            "extract poem in 42/49: https://nomfoundation.org/nom-project/Ho-Xuan-Huong/Ho-Xuan-Huong-of-poems/43-Unwelcome Houseguest?uiLang=en\n",
            "詠客到家\n",
            "extract poem in 43/49: https://nomfoundation.org/nom-project/Ho-Xuan-Huong/Ho-Xuan-Huong-of-poems/44-The Kingdom of Đằng?uiLang=en\n",
            "渃藤\n",
            "extract poem in 44/49: https://nomfoundation.org/nom-project/Ho-Xuan-Huong/Ho-Xuan-Huong-of-poems/45-The Chess Game?uiLang=en\n",
            "詠鬥棋\n",
            "extract poem in 45/49: https://nomfoundation.org/nom-project/Ho-Xuan-Huong/Ho-Xuan-Huong-of-poems/46-Heaven Market?uiLang=en\n",
            "詠𢄂𡗶\n",
            "extract poem in 46/49: https://nomfoundation.org/nom-project/Ho-Xuan-Huong/Ho-Xuan-Huong-of-poems/47-Questions for the Moon?uiLang=en\n",
            "詠問月\n",
            "extract poem in 47/49: https://nomfoundation.org/nom-project/Ho-Xuan-Huong/Ho-Xuan-Huong-of-poems/48-Country Scene?uiLang=en\n",
            "即景\n",
            "extract poem in 48/49: https://nomfoundation.org/nom-project/Ho-Xuan-Huong/Ho-Xuan-Huong-of-poems/49-Spring – watching pavilion?uiLang=en\n",
            "檯看春\n"
          ]
        }
      ],
      "source": [
        "poems_sentences = []\n",
        "\n",
        "for i, link in enumerate(full_links):\n",
        "  print(f\"extract poem in {i}/{len(full_links)}: {link}\")\n",
        "  respond = requests.get(link)\n",
        "  soup = BeautifulSoup(respond.text, 'html.parser')\n",
        "\n",
        "  poems_sentences.append(extract_poem(soup))\n",
        "\n",
        "  time.sleep(random.randint(3, 5))\n"
      ]
    },
    {
      "cell_type": "code",
      "execution_count": null,
      "metadata": {
        "colab": {
          "base_uri": "https://localhost:8080/"
        },
        "id": "aZEu_UDpOO9h",
        "outputId": "513e0ae0-a669-45b2-f1ad-dedf548d8ad5"
      },
      "outputs": [
        {
          "name": "stdout",
          "output_type": "stream",
          "text": [
            "['景秋', '聖淬艚簫\\U0003196f紇𩄎', '𠸦埃窖𦘧景消疎', '撑萻古樹𧷺𧷝傘', '𤽸\\U00031c7b長江滂朗詞', '瓢篤江山醝𢴇𨢇', '襊𠦻風月𥘀爲詩', '於咍景拱𢛨𠊚𠰚', '埃𧡊埃𦓡\\U000f0778謹𢠐']\n",
            "['叙情詩', '㗂𪃿嗃𠳗嘅𨕭喯', '怨恨𥉫𫥨泣每𥬧', '楳慘空摳𦓡㤨谷', '鐘愁拯打㨿𫳵喑', '𠓀𦖑仍㗂添油忋', '𡢐𢠣為緣底𠻦𥊙', '才子文人埃\\U0003142b佐', '身尼㐌罕𠹾𫅷愔']\n",
            "['𠶆咹𦺓', '菓槔儒𡮈𠰘𦺓灰', '尼𧵑春香買𪭱耒', '固沛緣饒辰𧺀吏', '停撑如蘿泊如𪿙']\n",
            "['叙情', '𡖵𣌉咏咏𤿰更拵', '猪丐紅顔買渃𡽫', '𥗜𨢇香迻醝更醒', '暈𦝄䏾熾鈌諸𧷺', '扦昂𩈘坦𧄈曾坫', '\\U000f0742𧞤蹎𩄲𥒥\\U0003196f𡉕', '喭餒春𠫾春吏吏', '𤗖情删𢩿孙𡥵𡥵']\n",
            "['泣翁府永祥', '𤾓𢆥翁府永祥喂', '丐𡢻𠀧生㐌呂耒', '墫秩文章𠀧𡱩坦', '捻蹤弧矢𦊚方𡗶', '幹斤造化淶兜秩', '𠰘襊乾坤紩秩耒', '𠄩𠤩𣎃𡗶羅買祝', '𤾓𢆥翁府永祥喂']\n",
            "['哭翁總𧋉', '払𧋉喂払𧋉喂', '妾𤊰緣払固世催', '𧓅𰲾坦𡳪徐低𠰚', '𠦳鐄坤贖唒杯𪿙']\n",
            "['叙情(隻栢)', '隻栢𢞂𧗱分浽濘', '𡧲𣳔敖喭餒冷汀', '𠦻𦨻情義樣淶𣼽', '𡛤\\U00031f42風波𨻫汲澎', '𣛨䋥默埃啉杜𤅶', '㠶繚尸几㕸吹𡹞', '意埃𠶀板甘𢚸丕', '喭餒揞彈仍漝浜']\n",
            "['餅㵢', '身㛪辰𤽸分㛪𧷺', '𠤩浽𠀧沉買渃𡽫', '硍湼默油𢬣几揑', '𦓡㛪刎𡨹𬌓𢚸𣘈']\n",
            "['𥙩𫯳終', '𪟂吒丐刧𥙩𫯳終', '几撘𧜖葻几汵㳥', '𠄼時𨑮𪽗咍庒𠤆', '没𣎃堆吝固㤨空', '故𢶸咹𥸷𥸷吏吼', '扲朋爫摱摱空功', '身尼𠸠別羕尼𠰚', '他\\U000313ef催停於丕衝']\n",
            "['菓\\U000f02b3', '身㛪如菓\\U000f02b3𨕭𣘃', '䏧奴芻仕脢奴𠫅', '君子固腰辰㨂\\U000318f3', '吀停緍𢱖澦𫥨𢬣']\n",
            "['詠屋𧋆', '博媄生𫥨分屋𧋆', '𣎀𣈜粦𨀎盎𦹵灰', '君子固傷辰扑𧞣', '吀停𪭟𢭴魯𦟹碎']\n",
            "['詠行於清', '𥪸𬦪𥉫𫥨景𡴯休', '塘𠫾迁召舘招撩', '笠\\U00031e1a𠃅𦹵棦初壳', '𢯧技橋椥焠肯挑', '𠀧萼核撑形捥要', '没𣳔渃碧𦹵𨇉消', '趣𢝙悁奇念𢗼\\U00031fc8', '箕丐鳶埃𩙋論繚']\n",
            "['吃翁昭虎', '英徒醒英徒醝', '𫳵英撟月𡧲班𣈜', '尼尼姉𠸒朱𦓡別', '准意𧯄𤞻𠤆𢱖𢬣']\n",
            "['翁昭虎和', '尼翁醒尼翁醝', '尼翁撟月𡧲班𣈜', '𧯄𤞻𠸠凭空𠊚𢱖', '𫳵固𤞻𡥵俸捽𢬣']\n",
            "['岧𠀧隊', '没岧没岧吏没岧', '𠸦埃窖鑿景招撩', '𬮌𣘈𧹼烈𥱰𥵗\\U000f0902', '𡉕𥒥撑荑頓噴𦼔', '搮𧾿梗樁干𩙋速', '潭𣾸蘿柳湥霜招', '賢人君子埃𦓡𫽄', '痗𨆝𤶐蹎吻㦖𨅹']\n",
            "['𦂾𦀻', '𤏧𦰟畑蓮𧡊𤽸抛', '𡥵𪂲抸𣛠摔𣎀輸', '𠄩蹎蹅𫴋能能𢩮', '没𪮊\\U000f0742昂適適毛', '𢌌狹𡮈\\U0003163e𣃣紊奇', '𬑵𨱽囷苦沕如饒', '姑\\U00031722㦖卒吟朱𢪊', '除旦𠀧秋買𤋵牟']\n",
            "['題幀素女', '𠳨包饒𢆫咳姑𨉟', '姉拱𦎡𦓡㛪拱𦎡', '𤾓𨤔如印詞絏𤽸', '𠦳𢆥群買丐春撑', '標梅之監塘𦝄𩙋', '蒲柳催停分𤘁萌', '群趣𢝙箕𫳵拯𦘧', '責𠊚𠏲意窖無情']\n",
            "['詠𠊚𣜾荒', '奇𢘝朱𢧚化𢷣揚', '餒𢚸払固別庒払', '緣天渚𧡊儒頭育', '分了𫳵㐌掋湼昂', '丐罪𤾓𢆥払𠹾奇', '𡨸情没塊妾吀𫼳', '𬋩包𠰘世𠳒征壢', '空固仍𦓡固買頑']\n",
            "['詠𨇉𣛭', '\\U000f0743榾𠸦埃窖窖槞', '𠊚辰蓮打几𡓮𥉫', '𤳇\\U000320db𨆝䳽堪堪𦛋', '𡛔捥𨉞螉𠑕𠑕𢚸', '𦊚𤗖裙紅𩙻法派', '𠄩行蹎玉𨇒雙雙', '𨔈春㐌別春庒佐', '榾擼𠫾耒魯補空']\n",
            "['詠陽物', '博媄生𫥨本拯𢤞', '最雖空眜𠓇欣畑', '頭隊𥶄䏧𤍶䉅𧺃', '𨉞㧅備磾𢷀韜顛']\n",
            "['詠女無陰', '𨑮𠄩\\U00031658媒恄之饒', '\\U000f0742丐春情\\U00031782於兜', '唷𠲔尸吒𡥵𤝞𫴸', '吁噅默媄丐螉瓢', '妬埃妬別𣜳𫨩\\U00031f8b', '\\U00031722仉\\U00031722𫨩誑買頭', '傕\\U0003142d辰傕傕拱特', '𤾓𢆥強塊㗂娘妯']\n",
            "['詠𦑗', '𨑮𠤩咍羅𨑮\\U000f0743低', '朱英要𨁪庒淶𢬣', '蒙𠫆\\U000f03f0意撑𠀧𬢗', '𢌌狹樣\\U00031722\\U00031782没𣘃', '強燶包饒辰強沫', '要店諸斐吏要𣈜', '紅紅𦟐粉緣為𢚁', '主𨁪𤤰要没丐尼']\n",
            "['𨔈花', '㐌啐𨔈花沛固𨅹', '𨅹𨖲𠤆礒痗昌膮', '梗羅梗俸援𢫈𢪱', '葻𠃩葻撑底論漂']\n",
            "['汫渃', '𡉦溇深瀋細茹翁', '汫𧘇清新汫邏𨓡', '梂𤽸抛抛堆板接', '渃𤄯𣱾𣱾没𣳔通', '𦹵𪃿噸噴𨇉觥𠰏', '𩵜𩹹離卑藶𡧲𣳔', '汫𧘇清新埃㐌別', '妬埃監且拿𧏵𧏵']\n",
            "['詠猫(貓)', '拱辰獰\\U00031b94劔之㝹', '𣠖別貓閙哏猫閙', '𬺗令𡥵㹯才䟢踤', '𠚢威雄虎㗂胞\\U00031920', '𨔌由𣍋𩈘𨇉自𠁑', '莰捻收形束䟢高', '志决番尼撫𥙩貢', '耒𨖲薹閣仕嘵嗷']\n",
            "['𠴗伴哭𫯳', '永永𦖻𦖑㗂哭𫯳', '𠲃𠫾矯𢢆買𡽫滝', '埃𧗱𠴍啂彈㛪𠰚', '醜𧖱辰嗛𠰘鼎鐘']\n",
            "['哭𫯳爫𧆄', '永永𦖻𦖑㗂哭之', '傷𫯳𢧚沛哭絲絲', '𠮾嗷妾𢖵味甘草', '𨢟噔払喂味桂枝', '石乳陳皮炒底吏', '歸身蓮肉浸\\U000f0742𠫾', '刀求妾別𢭂埃𠰚', '生寄払喂死則歸']\n",
            "['分彈婆', '咳姉㛪喂固別空', '没邊𡥵哭没邊𫯳', '佈鴝覧錦𨄳𨕭䏾', '繩𡮣吁嘘哭\\U000f084e胸', '必奇仍羅收買援', '茣傍\\U00031722仍𩸮窮葻', '𫯳𡥵丐𡢻羅如世', '咳姉㛪喂固別空']\n",
            "['詠𠰺𡥵𪨅', '𣇜學冲耒景永萧', '𥪸𨖲𡓮𫴋吏𦣰猫', '𠰘噡𢮀𨢇𫮦灰啺', '喠渴尋茶\\U00031605木苗', '𦺓没𠄽旬啀呠𠷨', '𧆄𠄼𠀧吊唿肥漂', '埃𧗱𠴍啂姑悲別', '拱\\U000f0778風流拱\\U000f0778𠨪']\n",
            "['詠老醫閒居', '默埃車馭默埃枵', '𡎢\\U000320af軒梅吻𬦪𩨼', '瓢𢯰𨢇仙\\U000f0909伴\\U00031fc8', '拪㨢𧆄聖𦔳民𠨪', '詩吟良府𠊚外内', '彈𢭮高山客𦰟𡸇', '\\U0003196f𣋾太平𫢩吏﨤', '撫拪打𣜿性情呌']\n",
            "['餞𠊛爫詩', '𢴑𢬢迻饒細𬮌㕓', '拱𠾕學呐呐空𢧚', '埃𧗱𠴍啂坊𥋸𥊴', '㦖𤯩\\U000f0742𪿙𪭱者𡊰']\n",
            "['詠厨館使', '館使𫳵𦓡景永消', '𠳨𠽄師具到坭㧅', '𣖖鯨小底㤝空𢶸', '長曷娓吝點吏㧅', '創\\U00031884空几摳䘮\\U000f02b3', '𬁑秩空埃𢪮技𦼔', '吒刼塘修𫳵𢴑𢬢', '景𢞂添喭𡢻情㧅']\n",
            "['詠娓師', '出世紅顔計拱𡗉', '論𥿺夫婦\\U0003196f羅騎', '梞神地藏欺𢴿𢶢', '長曷彌陀底點㧅', '㦖孕榾\\U000f13f9𨖅\\U0003161e覺', '𢜝𩂀㳥奇論𦀊繚', '𠸠埃菓福𦓡修特', '拱篤没𢚸底固蹺']\n",
            "['詠師横淫', '丐刼修行𥗾𥒥㧅', '為之没𫵀小樵消', '船慈拱㦖𧗱西竺', '債𩙋朱𢧚沛論繚']\n",
            "['厨𠸗', '柴伵從容𨄹景厨', '詩辰𠦻襊𨢇𠦻壼', '𩵜溪𦗏偈𧋽儀𠲺', '𪀄𡶀𦖑經股訖劬', '扦𨷶慈悲𢷆秩𦑃', '攮香漈度㩒𣹓爐', '南無𡃊𠳨茄師子', '福德如翁特\\U0003196f蒲']\n",
            "['詠𧯄割據', '𡗶坦生𫥨𥒥没\\U0003159b', '𤇩爫𠄩𤗖吼函歆', '技𤞻𦼔木諸喧𠰘', '篭𩙋樁嘹撫佛𫩓', '湥渃有情淶𤂺渀', '昆塘無岸最音音', '𠸦埃𢸛𥒥才穿鑿', '窖𠼯馨𫥨𡗋几𥄮']\n",
            "['制師', '\\U000f0778沛吳𦓡\\U000f0778沛些', '頭辰濁𠯿襖空邪', '𥺹𤼸𠓀𩈘𠄼𠀧品', '娓𨂖𡢐𨉞𦒹𠤩\\U00031658', '欺鐛欺𨦡欺𥬧\\U000321eb', '喠唏喠喜喠𠯋哬', '修𥹰固𨤰𨖲師具', '𡴯嶤座蓮怒\\U0003142b𦓡']\n",
            "['詠厨鎮國', '鎮北行宮𦹵𤋵油', '𢤜念故國擬𦓡𤴬', '没座蓮鎖唏香御', '𠄼式𩄲封攝襖朝', '㳥泣廢興𥋳沕𡀷', '鐘回今古𦗏彊毛', '𠊚𠸗景\\U00031fc8兜兜佐', '窖謹魚台屡濁頭']\n",
            "['𡑴太守', '𦗞眜𥉫𨖲𧡊榜撩', '箕𡑴太守𨅸招𨇉', '𠸠低𢷮分爫𤳇特', '辰事英雄𪫧閉饒']\n",
            "['銅賤\\U000f090f', '拱垆拱桮拱窮鐰', '𨷑𩈘𣄇𧷺買世間', '劍\\U0003205c朱𢧚芒㗂\\U000f090f', '覩銅𢖮拱當𢧚官']\n",
            "['𠊚蒲𥚆', '權重𠚢威鎮𡎝坡', '本𢚸為主𧯶為𦾠', '察𤐝𠓀𩈘堆暈玉', '𤀘浘𨕭𢬣没蘿旗', '㩹種\\U00031bb0𪀄賒沛𬦪', '𢠣軍猉鵴噲空𠽔', '默埃䟢踤塘名利', '祿渃𤔷些𡮇霂𩄎']\n",
            "['𡥵𧍆', '㛪固埋撑固𧞣鐄', '𠀧軍𢷰轎轎迎昂', '吀蹺翁孔𧗱東魯', '學𩘬盤庚𤍇𠃩湯']\n",
            "['詠客到家', '蝒沙𩵜䟢𠇍𣋚戈', '唩唩𣋚𫢩博\\U00031f2a茄', '吊𧆄絹談𢜠博丕', '𠰘𦺓𧹼歲噲之羅', '㘭漊渃奇坤尋𩵜', '園𢌌樔疎𧁷𨘗𪃿', '博\\U00031f2a𨔈低𢜠博丕', '茄辰空固𢄂辰賒']\n",
            "['渃藤', '藤國𠸗𫢩本𡮈然', '吏添齊楚押𠄩边', '𥋓𩈘𨖅齊𠲖楚𢠣', '乖頭𧗱楚𢜝齊慳']\n",
            "['詠鬥棋', '熙熙𡗶春𣅶買𣌆', '英雄𨅮志會𩄲𩄎', '馬車指𡓃軍𨄿𨇒', '士象迎昂將眼𥆃', '𨕭席㗂沁㖫𦊚𧣳', '𥪞軍謀智率𨷈機', '景咍𠓀眜閙埃別', '趣味清台弟一棋']\n",
            "['詠𢄂𡗶', '𠸦𫢼𡥵造窖嘹\\U00031c7e', '排達𫥨𢧚景𢄂𡗶', '𣇜創𩙋迻𣌂𣌝𤋵', '班朝𩄲合最𦝄𨔈', '排行花菓𦊛務産', '𨷑庯江山𦊚𩈘𡎦', '半利摸名閙仍几', '空𢧚墨奇没𠄩𠳒']\n",
            "['詠問月', '𠇍萬𢆥尼吻唉群', '故𫳵欺鈌吏欺𧷺', '𠳨𡥵玉兎陀包歲', '𠤌姉姮娥㐌𠇍𡥵', '𣎀永故𫳵𨒺閣紫', '𣈜清𡭧\\U000f0778𢢆暈崙', '𠄼更疎矧除埃妬', '能固情𥢆買渃𡽫']\n",
            "['即景', '濕洸頭𡹞頓噴湄', '妬埃𦘧特景萧踈', '鏜萻古樹嶟𡻖傘', '𤽸撮長江滂朗詞', '𧥇牧𠯦㖫沔曠野', '䋥漁𢬥𩙋𡓁平沙', '鐘埃䋎綏邊箕佐', '殃𡋿鍾情没襊詩']\n",
            "['檯看春', '淹愛朝春細看檯', '凌凌庒𣵲𡭧塵埃', '𠀧回招墓鍾㖗㳥', '没淎喪滄渃論𡗶', '\\U000319a7愛𠦳重坤撒𣴓', '源恩𨷈丈𥚯𣾺潙', '鬧鬧極樂羅兜佐', '極樂羅低𠃩𤑟𨑮']\n"
          ]
        }
      ],
      "source": [
        "for poem in poems_sentences:\n",
        "  print(poem)"
      ]
    },
    {
      "cell_type": "code",
      "execution_count": null,
      "metadata": {
        "id": "jWw-NqPQOWpZ"
      },
      "outputs": [],
      "source": [
        "# save to file\n",
        "with open('ho_xuan_huong.txt', 'w') as f:\n",
        "  for poem in poems_sentences:\n",
        "    f.write('\\n'.join(poem))\n",
        "    f.write('\\n')"
      ]
    },
    {
      "cell_type": "markdown",
      "metadata": {
        "id": "n7V_Tp2JNbVM"
      },
      "source": [
        "# Trinh-Phu-Ngam-Khuc"
      ]
    },
    {
      "cell_type": "code",
      "execution_count": null,
      "metadata": {
        "id": "dQjXBL7TNj39"
      },
      "outputs": [],
      "source": [
        "tpnk_url = 'https://nomfoundation.org/nom-project/Chinh-Phu-Ngam-Khuc/Chinh-Phu-Ngam-Khuc-Text?uiLang=en'"
      ]
    },
    {
      "cell_type": "code",
      "execution_count": null,
      "metadata": {
        "id": "k0bBHosnRk8S"
      },
      "outputs": [],
      "source": [
        "from bs4 import BeautifulSoup\n",
        "\n",
        "def cpnk_extract_nom_text(soup):\n",
        "    # Tìm bảng chứa NomText, sử dụng tiêu đề đặc trưng \"NomText\"\n",
        "    nom_table = soup.find(\"table\", {\"width\": \"100%\", \"border\": \"0\", \"cellpadding\": \"3\", \"cellspacing\": \"2\"})\n",
        "    if not nom_table:\n",
        "        print(\"Không tìm thấy bảng NomText.\")\n",
        "        return []\n",
        "\n",
        "    # Lấy tất cả các thẻ <tr> trong bảng\n",
        "    rows = nom_table.find_all(\"tr\")\n",
        "\n",
        "    # Duyệt qua từng <tr> để lấy nội dung của <td> chứa class hnText\n",
        "    nom_texts = []\n",
        "    for row in rows:\n",
        "        td = row.find(\"td\", class_=\"hnText\")  # Chỉ lấy thẻ <td> có class \"hnText\"\n",
        "        if td:\n",
        "            # Lấy toàn bộ nội dung chữ Nôm, loại bỏ chữ Việt trong thẻ <l>\n",
        "            text = td.get_text(separator=\"\\n\").split(\"\\n\")[0]  # Chỉ lấy phần trước <br> là chữ Hán Nôm\n",
        "            nom_texts.append(text.strip())  # Thêm vào danh sách và loại bỏ khoảng trắng thừa\n",
        "\n",
        "    print(nom_texts)\n",
        "    return nom_texts\n",
        "\n"
      ]
    },
    {
      "cell_type": "code",
      "execution_count": null,
      "metadata": {
        "colab": {
          "base_uri": "https://localhost:8080/"
        },
        "id": "QrnOcJD4NxGf",
        "outputId": "5e7dc7a0-f699-464f-eb96-d2fa050a53a0"
      },
      "outputs": [
        {
          "name": "stdout",
          "output_type": "stream",
          "text": [
            "['𨤧𡗶坦常欺𫗄𡏧', '客𦟐紅𡗉餒迍邅', '撑箕𠽉瀋層𨕭', '爲埃𨢟孕朱𢧚餒尼', '𪔠長城龍𫼲𩃳月', '𤌋甘泉𥊚䁾式𩄲', '𠃩吝鎌宝𢶢𢬣']\n",
            "['姅𡖵傳檄定𣈗出征', '渃清平𠀧𤾓𢆥𡳵', '襖戎𢭂官武自低', '使𡗶𣌋𠽖塘𩄲', '法公\\U00031eb5重念西詫芇', '塘𨀐\\U000320f2𨉞㧅弓箭']\n",
            "['𩃳旗㗂𪔠賖又', '愁𨖲𦰟隘怨𫥨\\U0003222b房', '払歲𥘷本𣳔豪傑', '摄筆硯蹺𭛣刀弓', '城連矇進陛𧏵', '𡱩鎌㐌决\\U000f0778容賊𡗶', '志爫\\U00031c3a𨤵𠦳䏧馭']\n",
            "['招泰山平度鴻毛', '𪢆茄㧅幅戦袍', '㗂檑橋渭遁𠓨𫗄秋', '外頭梂渃𤄯如𤀓', '塘边梂𦹵木群𡽫', '迻払𢚸弋又𢞂', '步坤平馭水坤平船']\n",
            "['渃𤄯沚𢚸煩庒𤂩', '𦹵撑𦹳胣𢖵空𫡻', '啂耒𢬣吏𢭂連', '𨀈跢𠬠𨀈吏援襖払', '𢚸妾似𩃳𦝄蹺唯', '胣払賖𰿘𡎝𠦳𡽫', '撻\\U00031529餞𢱖龍泉']\n",
            "['指昂𦰟槊𠓨岸𧯄豹', '𤢈楼蘭浪蹺介子', '細蠻溪盤事伏波', '襖払𧺃似𩄐坡', '馭払色𤽸如\\U00031eb5雪印', '㗂樂馭吝擅㗂𪔠']\n",
            "['夾𩈘耒丿俸\\U000f0931𢬣', '河梁\\U000f0931𢬦塘尼', '边塘𬂙𩃳旗𠖤𢢯又', '軍𫏾㐌細外营柳', '馭𨍦群於裊長楊', '軍迻払\\U000320f2𨖲塘', '柳楊別妾断腸尼庒']\n",
            "['㗂笛\\U000320f2賖澄凌扐', '行旗𠖤𩃳乞𥊚又', '𢴑𢬣蹺笠𩄲迻', '妾𥆾𫭧𡶀\\U000f0bf7\\U000f0863餒茄', '払時\\U00031464𡎝賖𩄎𫗄', '妾時𧗱房𡳵照𧜖', '兑𬂙蹺㐌隔垠']\n",
            "['仍牟𩄲碧共痕𡶀撑', '准咸京払群𥋓吏', '𡔖洋湘妾駭𬂙𨖅', '𤐡洋湘隔\\U000f09ad陽', '𣘃\\U000f09ad陽䣓洋湘\\U0003196f重', '共𬂙吏麻共\\U000f0778𧡊', '𧡊撑又仍\\U0003196f岸橷']\n",
            "['岸橷撑屹𠬠牟', '𢚸払意妾埃愁欣埃', '払自\\U00031464𠓨尼𫗄培', '𡖵𦝄尼\\U00031781𠖾方兜', '初𫢩戦地\\U00031ecc包', '㘨空𰿘𨤵掣牢𤋵油', '唏𫗄冷𠊛愁𩈘惮']\n",
            "['𣳔渃溇馭𢠣蹎𨁼', '揞鞍𢶒𬂙㐌𤶐', '𦣰漨𡋥\\U000f0e94𥄭𡑱𫮹撑', '𫢩漢𫴋白城㨂吏', '𣈕胡𠓨青海𥈺戈', '形溪\\U0003142d𡶀𧵆賖', '𦄵傕吏𫃸𥰊駝吏髙']\n",
            "['霜頭𡶀𣇜朝如澮', '渃𢚸溪裊𫏌群溇', '恼𠊛𬡢甲閉𥹰', '𢚸圭戈妬𩈘油\\U000f0778𢣧', '𨕭帳錦透𫨩庒𨤧', '樣征夫埃𦘧朱𢧚', '想払𨀐\\U000320f2\\U0003196f年']\n",
            "['\\U000f0778尼瀚海時沔關山', '㐌測阻隊岸蛇虎', '吏冷\\U000f0cc7仍𡓇霜風', '𨖲髙𬂙式𩄲篭', '𢚸芇\\U00031eb5\\U000f0778動𢚸悲傷', '自\\U00031464𨖅東南𡴯𡑩', '別浪払進討尼\\U000f0832']\n",
            "['仍𠊛征戦閉𥹰', '弭䀡性命如牟𦹵𣘃', '\\U00031554唏猛恩𠫅自𫏾', '\\U00031c47准𠨪歳特包饒', '𡽫祈墓只𦝄撩', '𣷷淝𫗄𠺙調囂\\U0003196f塸']\n",
            "['𩲉死士𫗄㗀又𠺙', '𩈘征夫𦝄唯又𤐝', '征夫死士\\U0003196f𠊛', '芇埃莫𩈘芇埃噲𩲉', '唒兵焒渃𡽫如𡳵', '几行人過妬鄭傷', '分\\U00031c3c𫅷𫮇戦塲']\n",
            "['払超𠃅𩯀點霜買𧗱', '想払\\U00031c47仍皮𬋟弩', '𠀧𡱩鎌𠬠部戎鞍', '衝坡𫗄𡓁𦝄岸', '鎇撩頭馭槊\\U000f01f6𩈘城', '盎功名𤾓塘遯也', '仍辱𠡛芇㐌\\U000f0cc8\\U000f0cc9']\n",
            "['餒𢚸別吘共埃', '妾𥪝𦑃\\U0003222b払外蹎𩄲', '𥪝\\U0003222b尼㐌停分妾', '外𩄲箕𧯶劫払\\U000f0832', '仍矇\\U000f0829渃共饒', '芇𪟽𩄲渃俸\\U000f0832隔潙', '妾\\U000f0778想𫥨𠊛征婦']\n",
            "['払𧯶曾𭓇𠎪王孫', '據牢隔阻渃𡽫', '遣𠊛傕\\U000318ad時𣋚𤋵油', '樸風流當澄年少', '聘饒共攔𢬢𡦂縁', '女芇堆侶少年', '䦕山底隔寒諠包停']\n",
            "['課臨行莺㨋𥾽柳', '𠳨𣈗𧗱約裊鵑𰙔', '𫢩鵑㐌𠽖鶯𫅷', '鷾鴯吏嘅𫏾茄𠶓𠽓', '課登途梅𣗓僤𫗄', '𠳨𣈗𧗱只度𣑯\\U00031f50', '𫢩𣑯㐌眷𫗄東']\n",
            "['雪梅\\U000f0e94𪤄芙蓉𧺃坡', '恨共些𨻫西岑意', '捽𣈗𬂙芇𧡊唏沁', '岌\\U00031401𦲿用梗簪', '𨅸𬂙𦖑𠰺㗂禽牢敲', '限尼芇漢陽橋怒', '𡖵吏尋芇固消耗']\n",
            "['岌\\U00031401𫗄𠺙襖袍', '𪤄𣋚𣻆汜渃潮溟濛', '信𠳚𠫾𠊛空𧡊吏', '花楊殘㐌\\U00031c47𦼔𣛟', '𦼔𣛟\\U0003196f笠終扃', '𨄹𡑝𠬠𨀈𤾓情艮魚']\n",
            "['書常典𠊛空𧡊典', '幅簾疎吝轉𩃳陽', '𩃳陽\\U0003196f𣇜穿昂', '𠳒牢𨑮限𠃩常单差', '此併吏演𣾺𣈗意', '钱蓮尼㐌扔\\U00031eb5𠀧', '㤕𠊛吝呂隘賖']\n",
            "['㤕𠊛𢭗准皇花𨤮𨱽', '情家室芇埃\\U000f0778固', '箕老親閨婦𢖵傷', '索𫅷披拂𠃅箱', '𡥵疎𣒣𣷱𡲤當扶持', '𢚸老親𢞂欺𢭸\\U0003222b', '𠰘孩兒徐𩛷𠰏𩚵']\n",
            "['𤮿裴妾拖孝男', '鍊𡥵畑册妾爫父親', '尼𠬠身餒𫅷𠰺𥘷', '餒關𢙇𫼳\\U000317b8別包', '𢖵払\\U00031c47\\U0003196f霜𣒲', '春層𢬭貝冬芇群賖', '計𢆥㐌𠀧𦊛隔演']\n",
            "['䋦𢚸添𠦳萬滚昂', '约之𧵆襘𡬷𡱸', '\\U0003180e念𨐮䔲底払𤍊𫨩', '釵宫漢𧵑𣈗出嫁', '𦎛楼秦𨁪㐌𤐝鍾', '𢚁埃麻𠳚細共', '吀払透𣍊𬌓𢚸相思']\n",
            "['𨧟㧅𢬣每欺𥋴𥋟', '玉掑頭課𡮤𢝙制', '𢭄埃麻𠳚典尼', '底払珍重𨁪𠊛相親', '\\U00031c47\\U0003196f春信𠫾信吏', '典春尼信咳永空', '𧡊鴈𨻫想書封']\n",
            "['𦖑唏霜攕襖\\U00031f50産床', '𫗄西浽空塘鴻便', '㤕𡎝外雪眷𩅹沙', '幔𩅹帳雪衝坡', '𢪀添冷𠖭几𫥨𡎝外', '題𡦂錦封傕吏𨷑', '招掛钱信與群𪟽']\n",
            "['𡗶𣋚𢭸\\U0003222b艮魚', '𦝄\\U000318b1娘襘𠀧蜍𫗄枚', '𧯶如埃𩲉醝𩃳吝', '俸蜍扵吝矧虛空', '簪掑襜㩫𢢆𢝣', '\\U00031c47澜𩯀\\U00031e7b挵𥿺𦝄腰']\n",
            "['𨄹軒永\\U000f0742招曾𨀈', '外簾疎𢷀擱隊畨', '外簾鵲\\U000f0778𫫗信', '𥪝簾\\U00031ecc㐌固畑別庒', '畑固別\\U00031ecc平\\U000f0778別', '𢚸妾𥢆悲切麻傕', '𢞂悶呐\\U000f0778𢧚𠳒']\n",
            "['花畑箕貝𩃳𠊛𧯶傷', '𬷤嘵喔嘅霜𠄼𪔠', '槐拂披𢷀𩃳𦊚边', '刻𣇞蕩又如年', '䋦愁弋又平沔\\U000319a7賖', '香強焠𢚸陀迷\\U000f0ded', '𦎛強𤐝淚吏𥢳滇']\n",
            "['瑟琹強𢭮𪮀弹', '𦀊鴛驚縆𣓦鵉𪿒重', '𢚸尼𠳚𫗄東固便', '𠦳鐄嗔𠳚典𡽫燕', '𡽫燕油\\U000f0778典沔', '𢖵払瀋又塘𨖲平𡗶', '𡗶瀋又賖潙坤透']\n",
            "['餒𢖵払\\U00031799又芇衝', '景𢝙𠊛切他𢚸', '形𣘃霜湥㗂蛩𩄎噴', '霜如鈽補\\U00031c4a㭲柳', '𩄎\\U00031ecc鋸又𤉗梗梧', '杶雪抚𡏧𪀄𠵎', '蝼墻呌永鍾厨㗂𣾺']\n",
            "['𢽼㗂啼月𢯦𫏾屋', '𠬠行蕉𫗄秃外軒', '幔𥪝闌𢼂𫗄穿', '𦝄淶花𩃳𤐝𨕭𫏾簾', '花𤋵月月印𠬠𬌓', '月篭花花𧺀曾\\U00031f50', '月花花月重又']\n",
            "['𫏾花\\U000f084e月𥪝𢚸掣\\U000f0832', '\\U000f0832掣計𬮙愁𠦳腦', '自女工婦巧調𢢯', '怲扲針怲迻梭', '鶯堆𢢆𦄅𧊉堆𪿒𬗰', '𩈘怲蘇𠰘強怲呐', '\\U000318ad吏朝唯又𢭗窻']\n",
            "['𢭗窻𨻫艮魚𢚸', '永払點粉粧紅買埃', '怲粧點𢚸𠊛煩脑', '㤕餒払外𡎝江氷', '恪之妸織姉姮', '𣷷銀洡湥宫𦝄祝\\U000f09f5', '愁揞\\U00031d38埃重爫襘']\n",
            "['悶𤀞𣹓埃𠺙爫粓', '摱花摱𨢇解𢞂', '愁爫𨢇溂悶拵花喂', '𢫈笙玉𠇍回空㗂', '揞弹箏\\U0003196f柉浰𢬣', '㤕𠊛行役閉𫢩', '𨤮賖矇痗𣍊𣹓吏潙']\n",
            "['𰙔鵑嘺爫淶渃𬑉', '𪔠樵枯如窒\\U000317e7旰', '㽳鐄𢬭恪容顔', '睽離買別辛酸\\U00031ecc尼', '唸咮𨢟𬌓𢚸貝𤍊', '味𨢟尼呵固爲埃']\n",
            "['爲払淚妾㳶堆', '爲払身妾𥛭𩁦𠬠皮', '身妾\\U000f0778𧵆掑\\U000f084e帳', '淚妾芇𡮇𥿁边巾', '𢝙群𩲉\\U000f09f5特𧵆', '𡖵又常典江津尋𠊛', '尋払坭陽薹𫮇𡳶']\n",
            "['趿払尼湘浦𣷷初', '森圍\\U0003196f𣅶情期', '\\U000f0778戈𨕭襘𠬠𣇞夢春', '恨妾身吏空平夢', '時𧵆払𣷷𨻫城關', '欺𢠩仍惜欺殘', '情𥪝聀夢𰿘萬共空']\n",
            "['𢝙固𠬠𬌓𢚸\\U000f0778𢴑', '本蹺払𣇞刻芇𢢯', '𢚸蹺仍渚𧡊𠊛', '𨖲髙\\U0003196f𣅶𬂙爲𨋣車', '𬂙𣷷南𪤄𢺺𩈘渃', '𦹵碧岑橷烈牟𣛟', '店廊𧵆姅零征']\n",
            "['𪀄群𪤄𡋥仍情朝𣋚', '𬂙塘北曾笘舘客', '𩄲碧𣘃𡶀𡴯𡗶撑', '姅禾桼姅荒城', '𩄎噴𩈘渃笛扃屋楼', '𡽫東𧡊𦲿侯㩫凍', '雉習仕梅共𢯏\\U00031807']\n",
            "['𤐡𩂟宜𩂁岸𣾺', '𡥵𪀄拨𫗄落𩔗呌傷', '𨻫西𧡊渃\\U00031ecc婉曲', '鴈𦑃空㳥唷船鈎', '岸樁𢷆祝𦹵𦰤', '隔船芇𧡊𠊛\\U000f0832𠫾𧗱', '𬂙𦊛皮蹎𡗶𩈘坦']\n",
            "['𨖲𫴋楼審卒隊畨', '笠𩄲技眜𪿒𥆾', '\\U000f0832𡎝征戦\\U000f0832沔玉關', '𢭄𪮊坦易坤𭓇斫', '巾招梂芇特𧡊仙', '𢚸尼化𥒥共𢧚', '𠲖空淚玉麻𨖲𬂙楼']\n",
            "['𣅶𥋓吏𥋴牟揚柳', '時勸払停𠹾爵封', '\\U000f0778𫨩𰿘𨤮\\U000320f2𨀐', '𢚸払固共如𢚸妾\\U000f0778', '𢚸払\\U000314a2共平如\\U0003142d', '𢚸妾\\U000f0832敢𢪀𧵆賖']\n",
            "['向陽𢚸妾\\U00031ecc花', '𢚸払吝矧𠲖斜𩃳陽', '𩃳陽底花鐄\\U000f0778兑', '花底鐄拱在𩃳陽', '花鐄花用扃墻', '\\U00031c47䀡花用𡖵霜\\U0003196f吝', '䒹蘭𦬑𫏾𡑝㐌𢲨']\n",
            "['𦰟𬞟箕边𪤄迻香', '𢯢襜𨄹𨀈前堂', '𠑕𬂙䀡𨤔天章矧蜍', '𩃳銀漢欺𥊚欺𤍊', '度奎廛𣇜固𣇜空', '式𩄲隊𣅶辣濃', '𬂙𬁖北斗傕東吏兑']\n",
            "['𩈘𦝄𤍊常𤐝边襘', '𪰓𬑉𬂙霜澮梗梧', '冷\\U0003140a台\\U0003196f朝秋', '𫗄\\U000f0451囂乞𨕭頭墙𪿙', '𠬠𢆥𠬠𤁕味𣘈粉', '丈夫群吝矧沔𣾺', '初牢形影\\U000f0778淶']\n",
            "['悲除女底隔潙参商', '払\\U000320f2馭𨤵長𩄲撫', '妾𨄹鞋𫮇𡳶簝印', '𫗄春𣈗𠬠永信', '可傷吝𣍊\\U0003196f畨良時', '𢜝𢖵欺梗桃朶槾', '𫏾𫗄春鐄紫聘饒']\n",
            "['怒時妸織払牛', '典𦝄秋吏𢫣梂戈滝', '切𠬠身房空𨻫𪧚', '時節𫅜𢗖𢖵隊㝹', '梭迻𣈗𣎃\\U000320f2𣭻', '𠊛𠁀審率戈牟春𣛟', '春𣛟底恨扃於胣']\n",
            "['合離停𢞂過欺𢝙', '怨愁𡗉䋦𥯒排', '柳蒲侯易押奈朝春', '箕文君媚苗課𫏾', '𠲖典欺頭萡麻傷', '𩈘花怒妸潘郎', '𢜝欺𠃅𩯀坡霜共\\U00031487']\n",
            "['𢪀顔色當澄花𦬑', '惜光陰吝呂招戈', '𢪀命萡惜年花', '𡛔絲\\U0003196f祝麻𫥨娜𣳔', '閣香怒𢠩懞𨤔𩈘', '楼花箕彷彿唏香']\n",
            "['責𡗶牢底汝讓', '妾油妾吏油払\\U000f0778𫡻', '払\\U000f0778𧡊𪀄𪂦於内', '共習迢\\U000f0778倍分張', '吏\\U000f0778𧡊𪀄燕𨕭\\U000f07cc', '萡頭空女堆塘𨔾饒', '箕𩔗蝼堆頭共聘']\n",
            "['怒類𪀄執𦑃共𠖤', '柳蓮\\U00031eb5式𦹵𣘃', '堆花共聘堆𣘃共連', '意類物情緣群\\U0003142d', '牢刼𠊛女底帝低', '妾嗔𰿘刼縁尼', '如𪀄連𦑃如𣘃連梗']\n",
            "['停𰿘刼𡦂情㐌丕', '蹺刼尼欣𧡊刼𨍦', '妾嗔払\\U000f125f萡頭', '妾時𪧚買𥙩牟𥘷中', '嗔\\U0002b735𩃳蹺共払丕', '払𠫾\\U000f0832拱𧡊妾边', '払𢭗暈日妾願']\n",
            "['每皮忠孝妾嗔院𧷺', '𢚸許國𧺀𣘈𡴯又', '飭庇民鏢鉄知又', '𧖱單于頭月氏', '意時𣇜㕵意時𣇜咹', '鋂銅𦠰隊吝歆許', '拖𢚸𡗶纏𪧚𠊛忠']\n",
            "['護払𤾓陣𢧚功', '\\U00031f50𥏌隘北撩弓𡽫兑', '𩃳旗幟㨋外關隘', '㗂凱𰙔踷吏神京', '嵿𡽫刻𥒥底名', '朝天𠓨𫏾宫莚𤼸功', '渃溋漢𢧚銅𣳮瀝']\n",
            "['曲樂詞𠰉𡂒㗂𠸦', '才搊秦霍院全', '𠸜𥱬閣鳯像傳\\U00031f2b轔']\n",
            "['𡑴勳將帶巾撝𦘧', '𡦂同休碑𥮋𠦳冬', '恩𨕭子䕃妻封']\n",
            "['顕荣妾共淡鐘香𡗶', '妾\\U000f0778𤵺如𠊛蘇婦', '払罕空如𠎪洛陽', '欺𧗱㧅顆印鐄']\n",
            "['𨕭宮𦀻敢𠖰扛爫髙', '嗔爲払扱袍𢶒甲', '嗔爲払𢷀笠風霜']\n",
            "['爲払𢬣祝\\U00031529鐄', '爲払點粉㧅香\\U00031790濃', '\\U0003180e巾淚払𥉫曾𬌓', '讀詩愁払審曾拘']\n",
            "['拘𢝙𢬭貝拘愁', '𨢇呵共計𫏾𨍦每𠳒', '仕𢫫潙吝吝隊\\U00031529']\n",
            "['仕𰙔寅諫諫隊聯', '聯吟対飲曾畨', '共払吏結䋦縁典𫅷', '朱捕𣅶愁賖隔𢖵']\n",
            "['𪧚纏饒𢝙𡦂清寧', '吟哦矇𠳚𡦂情', '\\U00031ecc尼歐罕才𫅜丈夫']\n"
          ]
        }
      ],
      "source": [
        "cpnk_sentences = []\n",
        "\n",
        "driver = create_driver()\n",
        "\n",
        "driver.get(tpnk_url)\n",
        "html = driver.page_source\n",
        "\n",
        "# Phân tích cú pháp HTML bằng BeautifulSoup\n",
        "new_soup = BeautifulSoup(html, 'html.parser')\n",
        "\n",
        "for i in range(64):\n",
        "  page_link = driver.find_element(By.XPATH, f'//a[@href=\"javascript:GotoPage({i})\"]')\n",
        "\n",
        "  # Nhấn vào liên kết để chuyển trang\n",
        "  page_link.click()\n",
        "\n",
        "  # Đợi một chút để trang tải lại, với thời gian ngẫu nhiên\n",
        "  time.sleep(random.randint(1, 3))  # Thời gian chờ ngẫu nhiên từ 3 đến 15 giây\n",
        "\n",
        "\n",
        "  # Lấy lại nội dung HTML của trang sau khi chuyển\n",
        "  html = driver.page_source\n",
        "  new_soup = BeautifulSoup(html, 'html.parser')\n",
        "\n",
        "  cpnk_sentences.extend(cpnk_extract_nom_text(new_soup))\n",
        "\n",
        "  time.sleep(3)\n",
        "driver.quit()\n"
      ]
    },
    {
      "cell_type": "code",
      "execution_count": null,
      "metadata": {
        "id": "sp1VfGB0g88U"
      },
      "outputs": [],
      "source": [
        "with open('trinh_phu_ngam_phuc.txt', 'w') as f:\n",
        "  for poem in cpnk_sentences:\n",
        "    f.write(' '.join(poem))\n",
        "    f.write('\\n')"
      ]
    }
  ],
  "metadata": {
    "colab": {
      "provenance": []
    },
    "kernelspec": {
      "display_name": "Python 3",
      "name": "python3"
    },
    "language_info": {
      "name": "python"
    }
  },
  "nbformat": 4,
  "nbformat_minor": 0
}
